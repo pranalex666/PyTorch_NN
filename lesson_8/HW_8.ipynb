{
  "nbformat": 4,
  "nbformat_minor": 0,
  "metadata": {
    "colab": {
      "provenance": []
    },
    "kernelspec": {
      "name": "python3",
      "display_name": "Python 3"
    },
    "language_info": {
      "name": "python"
    }
  },
  "cells": [
    {
      "cell_type": "code",
      "execution_count": 306,
      "metadata": {
        "id": "hsz0ur0zSEp0"
      },
      "outputs": [],
      "source": [
        "import numpy as np\n",
        "import matplotlib.pyplot as plt\n",
        "import torch\n",
        "import tqdm\n",
        "import torch.nn as nn\n",
        "from tqdm import tqdm\n",
        "from torch.utils.data import DataLoader"
      ]
    },
    {
      "cell_type": "code",
      "source": [
        "device = 'cuda' if torch.cuda.is_available() else 'cpu'\n",
        "device"
      ],
      "metadata": {
        "colab": {
          "base_uri": "https://localhost:8080/",
          "height": 36
        },
        "id": "lI_5u6Xw0GIx",
        "outputId": "2a46f544-1216-4400-fee9-2bd884b62702"
      },
      "execution_count": 307,
      "outputs": [
        {
          "output_type": "execute_result",
          "data": {
            "text/plain": [
              "'cpu'"
            ],
            "application/vnd.google.colaboratory.intrinsic+json": {
              "type": "string"
            }
          },
          "metadata": {},
          "execution_count": 307
        }
      ]
    },
    {
      "cell_type": "code",
      "source": [
        "class Dataset(torch.utils.data.DataLoader):\n",
        "  def __init__(self, start, stop, steps, noise=0.1):\n",
        "    self.x = np.random.uniform(start, stop, steps)\n",
        "    self.y = np.sin(self.x) / self.x - self.x / 10\n",
        "    self.func = self.y + self.y.std() * np.random.normal(-noise, noise, steps)\n",
        "    self.data = np.c_[self.x, self.func]\n",
        "\n",
        "  def __getitem__(self, idx):\n",
        "    return self.data[idx]\n",
        "  \n",
        "  def __len__(self):\n",
        "    return self.x.shape[0]\n",
        "\n",
        "  def MakeGraphics(self):\n",
        "    idx = self.x.argsort()\n",
        "    plt.plot(self.x[idx], self.y[idx], color='red', label='target_func')\n",
        "    plt.scatter(self.x, self.func, color='grey', label='with_noise')\n",
        "    plt.legend()\n",
        "    plt.show()"
      ],
      "metadata": {
        "id": "e0osKJyNa4Gj"
      },
      "execution_count": 308,
      "outputs": []
    },
    {
      "cell_type": "code",
      "source": [
        "start = -10\n",
        "stop = 10\n",
        "steps = 1000\n",
        "noise = 0.2\n",
        "batch_size = 32"
      ],
      "metadata": {
        "id": "8mLHD7d4j5an"
      },
      "execution_count": 309,
      "outputs": []
    },
    {
      "cell_type": "code",
      "source": [
        "dataset = Dataset(start, stop, steps, noise)"
      ],
      "metadata": {
        "id": "Couy26uZkiIN"
      },
      "execution_count": 310,
      "outputs": []
    },
    {
      "cell_type": "code",
      "source": [
        "dataset.MakeGraphics()"
      ],
      "metadata": {
        "colab": {
          "base_uri": "https://localhost:8080/",
          "height": 265
        },
        "id": "ZqvDSf_Bk9Y3",
        "outputId": "fcbbfb93-3442-4032-d5fc-0485d40a2204"
      },
      "execution_count": 311,
      "outputs": [
        {
          "output_type": "display_data",
          "data": {
            "text/plain": [
              "<Figure size 432x288 with 1 Axes>"
            ],
            "image/png": "[encoded data removed]"
          },
          "metadata": {
            "needs_background": "light"
          }
        }
      ]
    },
    {
      "cell_type": "code",
      "source": [
        "data = torch.utils.data.DataLoader(dataset, batch_size=batch_size, shuffle=True)"
      ],
      "metadata": {
        "id": "hZgXuKyanbpM"
      },
      "execution_count": 312,
      "outputs": []
    },
    {
      "cell_type": "code",
      "source": [
        "dataiter = iter(data)\n",
        "label = dataiter.next()\n",
        "print(label.shape)\n",
        "print(label)"
      ],
      "metadata": {
        "colab": {
          "base_uri": "https://localhost:8080/"
        },
        "id": "M9YBjwN-DrDS",
        "outputId": "35d15d05-66e8-4a83-97c4-8ce7301c1c2e"
      },
      "execution_count": 313,
      "outputs": [
        {
          "output_type": "stream",
          "name": "stdout",
          "text": [
            "torch.Size([32, 2])\n",
            "tensor([[ 4.1702, -0.7016],\n",
            "        [-8.5581,  0.8148],\n",
            "        [-3.4030,  0.2600],\n",
            "        [-8.4200,  0.9126],\n",
            "        [-9.4336,  0.8006],\n",
            "        [-1.6846,  0.5465],\n",
            "        [ 8.8265, -0.9332],\n",
            "        [ 6.7364, -0.6770],\n",
            "        [ 0.5603,  0.4419],\n",
            "        [-8.8892,  0.9190],\n",
            "        [ 3.5805, -0.6101],\n",
            "        [ 5.2069, -0.6502],\n",
            "        [-2.8964,  0.1075],\n",
            "        [-2.0825,  0.6550],\n",
            "        [-9.7628,  0.6457],\n",
            "        [-1.5058,  0.6989],\n",
            "        [ 8.6808, -1.0887],\n",
            "        [ 4.0034, -0.8714],\n",
            "        [-8.1394,  0.8252],\n",
            "        [ 2.4331, -0.2520],\n",
            "        [-9.0658,  0.7553],\n",
            "        [-4.9834,  0.2399],\n",
            "        [ 7.1431, -0.8184],\n",
            "        [ 9.1539, -0.6582],\n",
            "        [ 0.5026,  0.7744],\n",
            "        [ 2.4618, -0.2480],\n",
            "        [-5.7387,  0.3221],\n",
            "        [-0.2920,  0.9568],\n",
            "        [ 1.9718,  0.1443],\n",
            "        [-9.3091,  0.6610],\n",
            "        [ 8.2149, -0.9669],\n",
            "        [-7.7056,  0.7781]], dtype=torch.float64)\n"
          ]
        }
      ]
    },
    {
      "cell_type": "code",
      "source": [
        "plt.scatter(label[:,0], label[:,1])"
      ],
      "metadata": {
        "colab": {
          "base_uri": "https://localhost:8080/",
          "height": 284
        },
        "id": "i9WKzatuELaT",
        "outputId": "5dc76871-3709-4949-c76d-ca7d99df3987"
      },
      "execution_count": 314,
      "outputs": [
        {
          "output_type": "execute_result",
          "data": {
            "text/plain": [
              "<matplotlib.collections.PathCollection at 0x7f91d8b9ed10>"
            ]
          },
          "metadata": {},
          "execution_count": 314
        },
        {
          "output_type": "display_data",
          "data": {
            "text/plain": [
              "<Figure size 432x288 with 1 Axes>"
            ],
            "image/png": "[encoded data removed]"
          },
          "metadata": {
            "needs_background": "light"
          }
        }
      ]
    },
    {
      "cell_type": "code",
      "source": [
        "class Generator(nn.Module):\n",
        "    def __init__(self):\n",
        "        super().__init__()\n",
        "        \n",
        "        # Использование таких словарей позволяет нам варьировать параметры нашей сети в процессе использования\n",
        "        self.activations = nn.ModuleDict([\n",
        "            ['lrelu', nn.LeakyReLU(0.2, inplace=True)],\n",
        "            ['relu', nn.ReLU()]\n",
        "        ])\n",
        "        \n",
        "        def block(in_feat, out_feat, normalize=True, activation='relu'):\n",
        "            layers = [nn.Linear(in_feat, out_feat)]  # Если мы создаем последовательность слоев - то мы задаем их\n",
        "                                                     # с помощью списка.\n",
        "            if normalize:\n",
        "                layers.append(nn.BatchNorm1d(out_feat))\n",
        "            layers.append(self.activations[activation])  # Эта строчка означает тоже самое что и\n",
        "                                                         # layers.append(nn.LeakyReLU(0.2, inplace=True))\n",
        "            return layers\n",
        "\n",
        "        self.model = nn.Sequential(\n",
        "            *block(2, 128, activation='relu', normalize=False),  # Звездочка означает unpacking списка  \n",
        "            *block(128, 256, activation='relu'),\n",
        "            *block(256, 128, activation='relu'),\n",
        "            nn.Linear(128, 2))\n",
        "\n",
        "    def forward(self, x):\n",
        "        return self.model(x)"
      ],
      "metadata": {
        "id": "eicSEAoIqkwc"
      },
      "execution_count": 315,
      "outputs": []
    },
    {
      "cell_type": "code",
      "source": [
        "class Discriminator(nn.Module):\n",
        "    def __init__(self):\n",
        "        super().__init__()\n",
        "        self.activations = nn.ModuleDict([\n",
        "            ['leaky_relu',nn.LeakyReLU(0.2, inplace=True)],\n",
        "            ['relu', nn.ReLU()],\n",
        "            ['sigmoid', nn.Sigmoid()]\n",
        "            ])\n",
        "\n",
        "        self.model = torch.nn.Sequential(\n",
        "            *self.block(2, 128, 'leaky_relu'),\n",
        "            *self.block(128, 256, 'leaky_relu'),\n",
        "            *self.block(256, 128, 'leaky_relu'),\n",
        "            *self.block(128, 1, 'sigmoid'),\n",
        "        )\n",
        "\n",
        "    def block(self, in_dim, out_dim, activation, normalize=False):\n",
        "          layers = [torch.nn.Linear(in_dim, out_dim), self.activations[activation]]\n",
        "          if normalize:\n",
        "            layers.append(torch.nn.BatchNorm1d(out_dim))\n",
        "          return layers\n",
        "\n",
        "    def forward(self, x):\n",
        "        return self.model(x)"
      ],
      "metadata": {
        "id": "sXhPq4sJtRb6"
      },
      "execution_count": 316,
      "outputs": []
    },
    {
      "cell_type": "code",
      "source": [
        "n_epochs = 20  # количество эпох\n",
        "lr = 0.0001  # шаг обучения\n",
        "b1 = 0.5  # гиперпараметр для оптимайзера Adam\n",
        "b2 = 0.999  # гиперпараметр для оптимайзера Adam"
      ],
      "metadata": {
        "id": "pwieUJjVwfYa"
      },
      "execution_count": 317,
      "outputs": []
    },
    {
      "cell_type": "code",
      "source": [
        "generator = Generator().to(device)\n",
        "discriminator = Discriminator().to(device)"
      ],
      "metadata": {
        "id": "Rq-qIQx3ujiv"
      },
      "execution_count": 318,
      "outputs": []
    },
    {
      "cell_type": "code",
      "source": [
        "# Для каждой нейронки свой опитимизатор\n",
        "optimizer_G = torch.optim.Adam(\n",
        "    generator.parameters(),\n",
        "    lr=lr, \n",
        "    betas=(b1, b2)\n",
        ")\n",
        "optimizer_D = torch.optim.Adam(\n",
        "    discriminator.parameters(), \n",
        "    lr=lr, \n",
        "    betas=(b1, b2)\n",
        ")"
      ],
      "metadata": {
        "id": "Xw1B3bqIwKTM"
      },
      "execution_count": 319,
      "outputs": []
    },
    {
      "cell_type": "code",
      "source": [
        "adversarial_loss = torch.nn.BCELoss()\n",
        "d_loss_history = []\n",
        "g_loss_history = []"
      ],
      "metadata": {
        "id": "NGiQdfVswZw1"
      },
      "execution_count": 320,
      "outputs": []
    },
    {
      "cell_type": "code",
      "source": [
        "generator.train()\n",
        "discriminator.train()"
      ],
      "metadata": {
        "colab": {
          "base_uri": "https://localhost:8080/"
        },
        "id": "i96q64NcxFNa",
        "outputId": "b098850e-11b6-427c-b6f8-00c06ef17b01"
      },
      "execution_count": 321,
      "outputs": [
        {
          "output_type": "execute_result",
          "data": {
            "text/plain": [
              "Discriminator(\n",
              "  (activations): ModuleDict(\n",
              "    (leaky_relu): LeakyReLU(negative_slope=0.2, inplace=True)\n",
              "    (relu): ReLU()\n",
              "    (sigmoid): Sigmoid()\n",
              "  )\n",
              "  (model): Sequential(\n",
              "    (0): Linear(in_features=2, out_features=128, bias=True)\n",
              "    (1): LeakyReLU(negative_slope=0.2, inplace=True)\n",
              "    (2): Linear(in_features=128, out_features=256, bias=True)\n",
              "    (3): LeakyReLU(negative_slope=0.2, inplace=True)\n",
              "    (4): Linear(in_features=256, out_features=128, bias=True)\n",
              "    (5): LeakyReLU(negative_slope=0.2, inplace=True)\n",
              "    (6): Linear(in_features=128, out_features=1, bias=True)\n",
              "    (7): Sigmoid()\n",
              "  )\n",
              ")"
            ]
          },
          "metadata": {},
          "execution_count": 321
        }
      ]
    },
    {
      "cell_type": "code",
      "source": [
        "for epoch in range(n_epochs):\n",
        "  progress = tqdm(data, desc= f'Epoch: {epoch+1} / {n_epochs}' )\n",
        "  for batch in progress:\n",
        "        # генерируем метки положительного и отрицательного класса\n",
        "        valid = torch.FloatTensor(batch.shape[0], 1).fill_(1.0).to(device)\n",
        "        fake = torch.FloatTensor(batch.shape[0], 1).fill_(0.0).to(device)\n",
        "                                                         \n",
        "        # получаем истинные значения\n",
        "        true_data = batch.type(torch.FloatTensor).to(device)\n",
        "        \n",
        "        # Генерация шума\n",
        "        z = torch.FloatTensor(np.random.normal(0, 1, (batch.shape[0], 2))).to(device)\n",
        "\n",
        "        # Генерируем данные Генератором на основе шума\n",
        "        gen_data = generator(z)\n",
        "\n",
        "######################  Тренировка дискриминатора    ##########################\n",
        "        \n",
        "        # Получаем предсказания дискриминатора на основе реальных данных\n",
        "        real_pred = discriminator(true_data)\n",
        "\n",
        "        # Тут сравниваем предсказанные значения Дискриминатора(на основе настоящих данных) с настоящими\n",
        "        d_real_loss = adversarial_loss(real_pred, valid)\n",
        "       \n",
        "        # Подаем сгенерированые данные на Дискриминатор \n",
        "        fake_pred = discriminator(gen_data)\n",
        "\n",
        "        # расчитываем ошибку предсказанного с фейковыми лейблами\n",
        "        d_fake_loss = adversarial_loss(fake_pred, fake)\n",
        "  \n",
        "        # И усредняем два лосса в один\n",
        "        d_loss = (d_real_loss + d_fake_loss) / 2\n",
        "        d_loss_history.append(d_loss.item())\n",
        "        optimizer_D.zero_grad()\n",
        "        d_loss.backward()\n",
        "        optimizer_D.step()\n",
        "\n",
        "######################  Тренировка генератора    ##########################\n",
        "        \n",
        "        # Генерация шума\n",
        "        z = torch.FloatTensor(np.random.normal(0, 1, (batch.shape[0], 2))).to(device)\n",
        "\n",
        "        # Генерируем данные Генератором на основе шума\n",
        "        gen_data = generator(z)\n",
        "\n",
        "        # Подаем сгенерированые данные на Дискриминатор \n",
        "        fake_pred = discriminator(gen_data)\n",
        "\n",
        "        # Тут сравниваем предсказанные значения Дискриминатора (на основе сгенерировнных данных) с настоящими\n",
        "        g_loss = adversarial_loss(fake_pred, valid)\n",
        "        g_loss_history.append(g_loss.item())\n",
        "\n",
        "        # Делаем шаг обучения нашего Генератора\n",
        "        optimizer_G.zero_grad()\n",
        "        g_loss.backward()\n",
        "        optimizer_G.step()\n",
        "\n",
        "        progress.set_postfix({'GLOSS': g_loss.item(), 'DLOSS': d_loss.item()})\n"
      ],
      "metadata": {
        "colab": {
          "base_uri": "https://localhost:8080/"
        },
        "id": "sjak9zPaytZa",
        "outputId": "b4a18a30-ece5-4e50-f002-8378a2462837"
      },
      "execution_count": 322,
      "outputs": [
        {
          "output_type": "stream",
          "name": "stderr",
          "text": [
            "Epoch: 1 / 20: 100%|██████████| 32/32 [00:00<00:00, 107.76it/s, GLOSS=0.641, DLOSS=0.583]\n",
            "Epoch: 2 / 20: 100%|██████████| 32/32 [00:00<00:00, 107.52it/s, GLOSS=0.693, DLOSS=0.655]\n",
            "Epoch: 3 / 20: 100%|██████████| 32/32 [00:00<00:00, 106.39it/s, GLOSS=0.746, DLOSS=0.583]\n",
            "Epoch: 4 / 20: 100%|██████████| 32/32 [00:00<00:00, 106.25it/s, GLOSS=0.783, DLOSS=0.647]\n",
            "Epoch: 5 / 20: 100%|██████████| 32/32 [00:00<00:00, 114.05it/s, GLOSS=0.818, DLOSS=0.615]\n",
            "Epoch: 6 / 20: 100%|██████████| 32/32 [00:00<00:00, 114.16it/s, GLOSS=0.773, DLOSS=0.668]\n",
            "Epoch: 7 / 20: 100%|██████████| 32/32 [00:00<00:00, 115.76it/s, GLOSS=0.775, DLOSS=0.741]\n",
            "Epoch: 8 / 20: 100%|██████████| 32/32 [00:00<00:00, 104.40it/s, GLOSS=0.734, DLOSS=0.683]\n",
            "Epoch: 9 / 20: 100%|██████████| 32/32 [00:00<00:00, 98.63it/s, GLOSS=0.73, DLOSS=0.651]\n",
            "Epoch: 10 / 20: 100%|██████████| 32/32 [00:00<00:00, 97.50it/s, GLOSS=0.765, DLOSS=0.68]\n",
            "Epoch: 11 / 20: 100%|██████████| 32/32 [00:00<00:00, 94.85it/s, GLOSS=0.725, DLOSS=0.712]\n",
            "Epoch: 12 / 20: 100%|██████████| 32/32 [00:00<00:00, 104.73it/s, GLOSS=0.739, DLOSS=0.701]\n",
            "Epoch: 13 / 20: 100%|██████████| 32/32 [00:00<00:00, 94.45it/s, GLOSS=0.715, DLOSS=0.701]\n",
            "Epoch: 14 / 20: 100%|██████████| 32/32 [00:00<00:00, 101.19it/s, GLOSS=0.731, DLOSS=0.691]\n",
            "Epoch: 15 / 20: 100%|██████████| 32/32 [00:00<00:00, 106.99it/s, GLOSS=0.715, DLOSS=0.696]\n",
            "Epoch: 16 / 20: 100%|██████████| 32/32 [00:00<00:00, 105.18it/s, GLOSS=0.708, DLOSS=0.69]\n",
            "Epoch: 17 / 20: 100%|██████████| 32/32 [00:00<00:00, 101.12it/s, GLOSS=0.699, DLOSS=0.689]\n",
            "Epoch: 18 / 20: 100%|██████████| 32/32 [00:00<00:00, 101.87it/s, GLOSS=0.715, DLOSS=0.689]\n",
            "Epoch: 19 / 20: 100%|██████████| 32/32 [00:00<00:00, 102.43it/s, GLOSS=0.703, DLOSS=0.683]\n",
            "Epoch: 20 / 20: 100%|██████████| 32/32 [00:00<00:00, 102.51it/s, GLOSS=0.73, DLOSS=0.696]\n"
          ]
        }
      ]
    },
    {
      "cell_type": "code",
      "source": [
        "plt.plot(d_loss_history, label=\"Discriminator's loss\")\n",
        "plt.plot(g_loss_history, label=\"Generator's loss\")\n",
        "plt.legend()\n",
        "plt.show()"
      ],
      "metadata": {
        "colab": {
          "base_uri": "https://localhost:8080/",
          "height": 265
        },
        "id": "JM0MVUhby-YT",
        "outputId": "0ac76f2f-ef08-4fbc-8ad0-348a32dd5dfb"
      },
      "execution_count": 323,
      "outputs": [
        {
          "output_type": "display_data",
          "data": {
            "text/plain": [
              "<Figure size 432x288 with 1 Axes>"
            ],
            "image/png": "[encoded data removed]"
          },
          "metadata": {
            "needs_background": "light"
          }
        }
      ]
    },
    {
      "cell_type": "code",
      "source": [],
      "metadata": {
        "id": "zSPdVhTrcysr"
      },
      "execution_count": 303,
      "outputs": []
    }
  ]
}