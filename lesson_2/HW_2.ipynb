{
  "cells": [
    {
      "cell_type": "markdown",
      "metadata": {
        "id": "b2FXQKvGtZ2D"
      },
      "source": [
        "# Feed-forward neural network"
      ]
    },
    {
      "cell_type": "markdown",
      "metadata": {
        "id": "CnD4Qj8WtZ2I"
      },
      "source": [
        "<img src=\"https://drive.google.com/uc?export=view&id=1K1rumu2ZTPO0S7-7f7nNegp-D-MXrUI-\">\n",
        "\n",
        "Давайте вспомним, что такое нейронные сети прямого распространения. \n",
        "\n",
        "Нейронные сети прямого распространения (feed forward neural networks, FF или FFNN) и перцептроны (perceptrons, P) очень прямолинейны, они передают информацию от входа к выходу. Нейронные сети часто описываются в виде слоёного торта, где каждый слой состоит из входных, скрытых или выходных клеток. Клетки одного слоя не связаны между собой, а соседние слои обычно полностью связаны. Самая простая нейронная сеть имеет две входных клетки и одну выходную, и может использоваться в качестве модели логических вентилей. FFNN обычно обучается по методу обратного распространения ошибки, в котором сеть получает множества входных и выходных данных. Этот процесс называется обучением с учителем, и он отличается от обучения без учителя тем, что во втором случае множество выходных данных сеть составляет самостоятельно. Вышеупомянутая ошибка является разницей между вводом и выводом. Если у сети есть достаточное количество скрытых нейронов, она теоретически способна смоделировать взаимодействие между входным и выходными данными. Практически такие сети используются редко, но их часто комбинируют с другими типами для получения новых.\n",
        "\n",
        "По сути - это последовательность матричных умножений"
      ]
    },
    {
      "cell_type": "markdown",
      "metadata": {
        "id": "J233-U8Blrfy"
      },
      "source": [
        "### Инициализация весов и функции активации\n",
        "\n",
        "<img src='https://drive.google.com/uc?export=view&id=14zSYfRzDax_bDT-8wir83UJx2DUUdxst'>"
      ]
    },
    {
      "cell_type": "markdown",
      "metadata": {
        "id": "BzH24z7-lrf0"
      },
      "source": [
        "#### Проблема затухающего градиента"
      ]
    },
    {
      "cell_type": "markdown",
      "metadata": {
        "id": "jbrlEjKllrf0"
      },
      "source": [
        "Инициализируются веса случайным образом. Но нужно правильным образом инициализировать веса этими случайными значениями чтобы все сошлось.\n",
        "Почему очень часто люди выбирают Relu в качестве функции активации. Очень большая проблема - это проблема затухающего градиента. \n",
        "$$tanh(x) = \\frac{2}{1+\\mathrm{e}^{-2x}}-1 $$"
      ]
    },
    {
      "cell_type": "markdown",
      "metadata": {
        "id": "c05tcJYAlrf2"
      },
      "source": [
        "Раньше нейросети обучали с помощью такой гладкой функцией нелинейности называемой гипорболическим тангенсом. С  ней есть следующая проблема. Предположим что на вход она получила какое-то большое число. Например 4. на выходе эта функия выдаст 1,т.к. 4 очень близко к месту насыщения. И что же она выдаст на выходе обратного распространения? А выдаст она 0, т.к. в этой точке функция уже не чувствительна к смещению.\n",
        "Это значит, что как только мы вышли из эффективного пространства этой функции, она сразу уводит значения в 1 или -1 и после этого уже вывести его от туда сверх сложно. Т.к. любой градиент который мы в нее пошлем она превратит в близкое к нулю значение. \n",
        "И если наша система состоит из большого количества слоев таких функций, то как только любой из них доходит до такого значения - он сразу убивает возможность нормально тренироваться всей предыдущей части сети. "
      ]
    },
    {
      "cell_type": "markdown",
      "metadata": {
        "id": "MO7ay4JAlrf2"
      },
      "source": [
        "<img src='https://drive.google.com/uc?export=view&id=19oHVl2sLsfro7C0Jlz2fL_zoHeL5hUYl' width=800>"
      ]
    },
    {
      "cell_type": "markdown",
      "metadata": {
        "id": "aC2tuCnHlrf3"
      },
      "source": [
        "#### Rectifier Linear Unit ReLU\n",
        "\n",
        "[pytorch doc](https://pytorch.org/docs/stable/generated/torch.nn.ReLU.html#torch.nn.ReLU)\n",
        "\n",
        "А вот у ReLU нет такой проблемы, т.к. она нигде не выходит ни на какую ассимптоту. Она продолжает идти дальше по мере возрастания. Поэтому градиент никогда не затухает даже если очень много слоев впихнуть последовательно. "
      ]
    },
    {
      "cell_type": "markdown",
      "metadata": {
        "id": "vb_72xgNlrf3"
      },
      "source": [
        "<img src='https://drive.google.com/uc?export=view&id=12Yp-5AdkSQl99jeMXkECEgLtFBAZ8zCa' width=400>"
      ]
    },
    {
      "cell_type": "markdown",
      "metadata": {
        "id": "Uqh5IUcclrf4"
      },
      "source": [
        "Как реализовано в pytorch:"
      ]
    },
    {
      "cell_type": "code",
      "metadata": {
        "id": "DfSChYvFlrf5",
        "colab": {
          "base_uri": "https://localhost:8080/"
        },
        "outputId": "acafdca6-9603-439c-e5be-06182e09c17d"
      },
      "source": [
        "import torch\n",
        "\n",
        "torch.nn.ReLU()"
      ],
      "execution_count": 1,
      "outputs": [
        {
          "output_type": "execute_result",
          "data": {
            "text/plain": [
              "ReLU()"
            ]
          },
          "metadata": {},
          "execution_count": 1
        }
      ]
    },
    {
      "cell_type": "markdown",
      "metadata": {
        "id": "R6XOSAXalrf5"
      },
      "source": [
        "Но у ReLU есть следующая проблема: бывает так, что  в какой-то момент у конкретной ReLU все точки датасета лежат в области < 0. Т.е. там градиент всегда ноль. Никакая оптимизация не сдвинет ему веса. Но на практике процент нейронов с такой функцией активации очень мал, что не особо мешает обучению.   \n",
        "Но в современном мире есть альтернативные варианты для ReLU:"
      ]
    },
    {
      "cell_type": "markdown",
      "metadata": {
        "id": "W5YC2V_Ulrf6"
      },
      "source": [
        "<img src='https://drive.google.com/uc?export=view&id=1i1mBXeRaThObNEDYw4fPnHb9AQsju9en' width=600>"
      ]
    },
    {
      "cell_type": "markdown",
      "metadata": {
        "id": "ILmXmrGOlrf6"
      },
      "source": [
        "[pytorch doc](https://pytorch.org/docs/stable/generated/torch.nn.LeakyReLU.html#torch.nn.LeakyReLU)\n",
        "\n",
        "Как реализовано в pytorch:"
      ]
    },
    {
      "cell_type": "code",
      "metadata": {
        "id": "6o7j0cE9lrf7",
        "colab": {
          "base_uri": "https://localhost:8080/"
        },
        "outputId": "b838d31f-a0d6-48b0-d7a2-4304d3c25ab3"
      },
      "source": [
        "torch.nn.LeakyReLU(negative_slope=0.01)"
      ],
      "execution_count": 2,
      "outputs": [
        {
          "output_type": "execute_result",
          "data": {
            "text/plain": [
              "LeakyReLU(negative_slope=0.01)"
            ]
          },
          "metadata": {},
          "execution_count": 2
        }
      ]
    },
    {
      "cell_type": "markdown",
      "metadata": {
        "id": "jxTCMoQXlrf8"
      },
      "source": [
        "<img src='https://drive.google.com/uc?export=view&id=1yUQbnVHMlTZ6SCvSal-SH5bm5lee1gfD' width=400>"
      ]
    },
    {
      "cell_type": "markdown",
      "metadata": {
        "id": "9GSBl71Hlrf8"
      },
      "source": [
        "[pytorch doc](https://pytorch.org/docs/stable/generated/torch.nn.ELU.html#torch.nn.ELU)\n",
        "\n",
        "Как реализовано в pytorch:"
      ]
    },
    {
      "cell_type": "code",
      "metadata": {
        "id": "GIun7UdVlrf9",
        "colab": {
          "base_uri": "https://localhost:8080/"
        },
        "outputId": "1c2e6c8e-0253-4323-81d1-dff6146b0489"
      },
      "source": [
        "torch.nn.ELU(alpha=1.0)"
      ],
      "execution_count": 3,
      "outputs": [
        {
          "output_type": "execute_result",
          "data": {
            "text/plain": [
              "ELU(alpha=1.0)"
            ]
          },
          "metadata": {},
          "execution_count": 3
        }
      ]
    },
    {
      "cell_type": "markdown",
      "metadata": {
        "id": "qNkbbIzBlrf9"
      },
      "source": [
        "С остальными функциями активации вы можете ознакомится [здесь](https://pytorch.org/docs/stable/nn.html#non-linear-activations-weighted-sum-nonlinearity) и [здесь](https://pytorch.org/docs/stable/nn.html#non-linear-activations-other)"
      ]
    },
    {
      "cell_type": "markdown",
      "metadata": {
        "id": "jO3LHAyIlrf-"
      },
      "source": [
        "#### Инициализация весов\n",
        "\n",
        "В самом простом варианте мы можем инициализировать наши веса следующим образом:\n",
        "\n",
        "$$w = a * random(width, height)$$"
      ]
    },
    {
      "cell_type": "code",
      "source": [
        ""
      ],
      "metadata": {
        "id": "tg0aKzXw08Jn"
      },
      "execution_count": 3,
      "outputs": []
    },
    {
      "cell_type": "markdown",
      "metadata": {
        "id": "A1fTRwIGlrgB"
      },
      "source": [
        "Какая тут у нас может возникнуть проблема? Мы начинаем тренировку с того что подаем X и прогоняем его через большое количество слоев.   \n",
        "Важный вопрос : как выбрать a? В чем проблема? Если мы например выберем a>>1, то каждый из следующих слоев будет умножать выход примерно на a, второй слой на а в квадрате и т.д. И это очень быстро растущая функция. В конце в итоге получится очень большое число, которое может выйти за пределы всех допустимых вычислений. И вернуть по этому числу градиент будет очень сложно.  \n",
        "А если а<<1, то точно так же градиент будет затухать что приведет к проблеме затухающего градиента.  \n",
        "Т.е. а нужно выбирать так, что бы функции активации не сильно увеличивались и не сильно уменьшались."
      ]
    },
    {
      "cell_type": "markdown",
      "metadata": {
        "id": "1ShK7sF1Sy43"
      },
      "source": [
        "<img src='https://drive.google.com/uc?export=view&id=1ucOBrTAjt4RwlRK8IKsXftls-XOy1f22' width=600>"
      ]
    },
    {
      "cell_type": "markdown",
      "metadata": {
        "id": "9gNDGeCvlrgB"
      },
      "source": [
        "Есть методы, которые позволяют по размерам w вычислить это правильное значение а:\n",
        "\n",
        "Со всеми можно познакомиться в разделе [torch.nn.init](https://pytorch.org/docs/stable/nn.init.html) "
      ]
    },
    {
      "cell_type": "markdown",
      "metadata": {
        "id": "54rM2BeclrgC"
      },
      "source": [
        "##### Xavier initialization\n",
        "\n",
        "[статья](http://citeseerx.ist.psu.edu/viewdoc/download?doi=10.1.1.207.2059&rep=rep1&type=pdf)\n",
        "\n",
        "$$a = \\frac{1}{sqrt(in\\_num)}\\\\W = a * random({in\\_num}, {out\\_num})$$\n",
        "\n",
        "\n",
        "<img src='https://drive.google.com/uc?export=view&id=1ZzTgjrfAx0l2p_64K6TWZEcCze1cDML6' width=600>"
      ]
    },
    {
      "cell_type": "markdown",
      "metadata": {
        "id": "FDx96959lrgD"
      },
      "source": [
        "Как реализовано в pytorch:"
      ]
    },
    {
      "cell_type": "code",
      "metadata": {
        "id": "gS4XLj9hlrgE",
        "colab": {
          "base_uri": "https://localhost:8080/"
        },
        "outputId": "7a405b46-28d2-4ada-f950-57446bb1fa18"
      },
      "source": [
        "torch.nn.init.xavier_normal_(torch.empty(3, 5))"
      ],
      "execution_count": 4,
      "outputs": [
        {
          "output_type": "execute_result",
          "data": {
            "text/plain": [
              "tensor([[-1.4196, -0.2841, -0.2215, -0.4411, -0.6100],\n",
              "        [-0.4220, -0.2193,  0.2348, -0.3445, -0.1233],\n",
              "        [ 0.0729,  0.2284,  0.6017,  0.1488,  0.4302]])"
            ]
          },
          "metadata": {},
          "execution_count": 4
        }
      ]
    },
    {
      "cell_type": "markdown",
      "metadata": {
        "id": "vQva7xCXlrgF"
      },
      "source": [
        "##### He initialization\n",
        "\n",
        "[статья](https://arxiv.org/abs/1502.01852)\n",
        "\n",
        "Небольшой апдейт метода выше. Предназначается для сетей с активацией ReLU. \n",
        "\n",
        "$$a = \\frac{1}{sqrt(2/in\\_num)}\\\\W = a * random({in\\_num}, {out\\_num})$$"
      ]
    },
    {
      "cell_type": "markdown",
      "metadata": {
        "id": "Gw97J36-lrgF"
      },
      "source": [
        "<img src='https://drive.google.com/uc?export=view&id=1uZmbOPqQhK-JUg_e-1poGEF-O9-R4zLM' width=600>"
      ]
    },
    {
      "cell_type": "markdown",
      "metadata": {
        "id": "0jf1X4EvlrgG"
      },
      "source": [
        "Как реализовано в pytorch:"
      ]
    },
    {
      "cell_type": "code",
      "metadata": {
        "id": "291487DZlrgG",
        "colab": {
          "base_uri": "https://localhost:8080/"
        },
        "outputId": "79f5d8e4-9142-48bb-d4a2-687240ce5738"
      },
      "source": [
        "torch.nn.init.kaiming_normal_(torch.empty(3, 5))"
      ],
      "execution_count": 5,
      "outputs": [
        {
          "output_type": "execute_result",
          "data": {
            "text/plain": [
              "tensor([[-0.7874,  0.2466,  0.2712, -0.6687,  1.3625],\n",
              "        [ 1.0698,  0.2224,  0.1012,  1.1669,  0.1048],\n",
              "        [ 0.6407, -0.5734,  0.0196,  0.0375,  0.5714]])"
            ]
          },
          "metadata": {},
          "execution_count": 5
        }
      ]
    },
    {
      "cell_type": "markdown",
      "source": [
        "## Пример feed-forward сети"
      ],
      "metadata": {
        "id": "DRbThpxYvsC8"
      }
    },
    {
      "cell_type": "markdown",
      "source": [
        "Напишим небольшую полносвязную сеть на торче."
      ],
      "metadata": {
        "id": "Rg5iDYoFvmNu"
      }
    },
    {
      "cell_type": "code",
      "execution_count": 4,
      "metadata": {
        "id": "YVb6A-bvtZ2P"
      },
      "outputs": [],
      "source": [
        "import torch\n",
        "import numpy as np\n",
        "import torch.nn.functional as F\n",
        "from torch import nn\n",
        "import torchvision"
      ]
    },
    {
      "cell_type": "code",
      "execution_count": 7,
      "metadata": {
        "id": "ITonhzkPtZ2T"
      },
      "outputs": [],
      "source": [
        "class Perceptron(nn.Module):\n",
        "    def __init__(self):\n",
        "        super().__init__()\n",
        "        self.fc = nn.Linear(1, 1)\n",
        "\n",
        "        # print(self.fc.weight)\n",
        "        # torch.nn.init.xavier_uniform(self.fc.weight)\n",
        "        # print(self.fc.weight)\n",
        "        \n",
        "        self.relu = nn.ReLU()\n",
        "\n",
        "    def forward(self, x):\n",
        "        print('input', x)\n",
        "        output = self.fc(x)\n",
        "        print('output fc:', output)\n",
        "        output = self.relu(output)\n",
        "        print('output relu:', output)\n",
        "        return output"
      ]
    },
    {
      "cell_type": "code",
      "execution_count": 8,
      "metadata": {
        "colab": {
          "base_uri": "https://localhost:8080/"
        },
        "id": "jXIFauNttZ2V",
        "outputId": "b08b66dd-3b6e-429b-cc3a-10902d1e302d"
      },
      "outputs": [
        {
          "output_type": "execute_result",
          "data": {
            "text/plain": [
              "Perceptron(\n",
              "  (fc): Linear(in_features=1, out_features=1, bias=True)\n",
              "  (relu): ReLU()\n",
              ")"
            ]
          },
          "metadata": {},
          "execution_count": 8
        }
      ],
      "source": [
        "perc = Perceptron()\n",
        "perc"
      ]
    },
    {
      "cell_type": "code",
      "execution_count": 9,
      "metadata": {
        "colab": {
          "base_uri": "https://localhost:8080/"
        },
        "id": "M3nV8WkRtZ2Z",
        "outputId": "47bd2df2-b3f0-473d-a289-4b9ee7add28d"
      },
      "outputs": [
        {
          "output_type": "stream",
          "name": "stdout",
          "text": [
            "input tensor([5.])\n",
            "output fc: tensor([1.6634], grad_fn=<AddBackward0>)\n",
            "output relu: tensor([1.6634], grad_fn=<ReluBackward0>)\n"
          ]
        },
        {
          "output_type": "execute_result",
          "data": {
            "text/plain": [
              "tensor([1.6634], grad_fn=<ReluBackward0>)"
            ]
          },
          "metadata": {},
          "execution_count": 9
        }
      ],
      "source": [
        "# Так выглядит инференс нейронной сети по входным данным\n",
        "perc(torch.FloatTensor([5]))"
      ]
    },
    {
      "cell_type": "code",
      "execution_count": 11,
      "metadata": {
        "colab": {
          "base_uri": "https://localhost:8080/"
        },
        "id": "Flrzm6y8tZ2b",
        "outputId": "549d042b-e317-4090-cfa9-e329d75304dc"
      },
      "outputs": [
        {
          "output_type": "execute_result",
          "data": {
            "text/plain": [
              "(Parameter containing:\n",
              " tensor([[0.3320]], requires_grad=True), Parameter containing:\n",
              " tensor([0.0033], requires_grad=True))"
            ]
          },
          "metadata": {},
          "execution_count": 11
        }
      ],
      "source": [
        "perc.fc.weight, perc.fc.bias"
      ]
    },
    {
      "cell_type": "markdown",
      "metadata": {
        "id": "4imK6lCNtZ2f"
      },
      "source": [
        "# Посмотрим на более сложную архитектуру"
      ]
    },
    {
      "cell_type": "code",
      "execution_count": 12,
      "metadata": {
        "id": "h5MuL2WKtZ2j"
      },
      "outputs": [],
      "source": [
        "class Feedforward(nn.Module):\n",
        "    def __init__(self, input_size, hidden_size):\n",
        "        super().__init__()\n",
        "        self.input_size = input_size\n",
        "        self.hidden_size  = hidden_size\n",
        "        self.fc1 = torch.nn.Linear(self.input_size, self.hidden_size)\n",
        "        self.relu = torch.nn.ReLU()\n",
        "        self.fc2 = torch.nn.Linear(self.hidden_size, 1)\n",
        "        self.sigmoid = torch.nn.Sigmoid()\n",
        "        \n",
        "    def forward(self, x):\n",
        "        x = self.fc1(x)\n",
        "        x = self.relu(x)\n",
        "        x = self.fc2(x)\n",
        "        x = self.sigmoid(x)\n",
        "        return x"
      ]
    },
    {
      "cell_type": "code",
      "execution_count": 13,
      "metadata": {
        "id": "2p6kLTlmtZ2o"
      },
      "outputs": [],
      "source": [
        "class Perceptron(nn.Module):\n",
        "    def __init__(self, input_dim, output_dim, activation=\"relu\"):\n",
        "        super(Perceptron, self).__init__()\n",
        "        self.fc = nn.Linear(input_dim, output_dim)\n",
        "        self.activation = activation\n",
        "        \n",
        "    def forward(self, x):\n",
        "        x = self.fc(x)\n",
        "        if self.activation == \"relu\":\n",
        "            return F.relu(x)\n",
        "        if self.activation == \"sigmoid\":\n",
        "            return F.sigmoid(x)\n",
        "        raise RuntimeError\n",
        "        \n",
        "\n",
        "class FeedForward(nn.Module):\n",
        "    def __init__(self, input_dim, hidden_dim):\n",
        "        self.fc1 = Perceptron(input_dim, hidden_dim)\n",
        "        self.fc2 = Perceptron(hidden_dim, 1, \"sigmoid\")\n",
        "        \n",
        "    def forward(self, x):\n",
        "        x = self.fc1(x)\n",
        "        x = self.fc2(x)\n",
        "        print(x)\n",
        "        return x"
      ]
    },
    {
      "cell_type": "code",
      "execution_count": 14,
      "metadata": {
        "id": "QssAD3QHtZ2q"
      },
      "outputs": [],
      "source": [
        "from sklearn.datasets import make_classification\n",
        "\n",
        "\n",
        "x_train, y_train = make_classification(random_state=1, n_samples=40, n_features=2, n_informative=2, n_redundant=0, shuffle=True)\n",
        "x_train = torch.FloatTensor(x_train)\n",
        "y_train = torch.FloatTensor(y_train)\n",
        "\n",
        "x_test, y_test = make_classification(random_state=1, n_samples=10, n_features=2, n_informative=2, n_redundant=0, shuffle=True)\n",
        "x_test = torch.FloatTensor(x_test)\n",
        "y_test = torch.FloatTensor(y_test)"
      ]
    },
    {
      "cell_type": "code",
      "execution_count": 15,
      "metadata": {
        "id": "5JTEgh3BtZ2r"
      },
      "outputs": [],
      "source": [
        "import matplotlib.pyplot as plt\n",
        "\n",
        "# %pylab inline"
      ]
    },
    {
      "cell_type": "code",
      "execution_count": 16,
      "metadata": {
        "colab": {
          "base_uri": "https://localhost:8080/",
          "height": 265
        },
        "id": "8HEr5GYOtZ2s",
        "outputId": "d77d651b-efc4-4652-fcf5-97d37ff35b13"
      },
      "outputs": [
        {
          "output_type": "display_data",
          "data": {
            "text/plain": [
              "<Figure size 432x288 with 1 Axes>"
            ],
            "image/png": "[encoded data removed]"
          },
          "metadata": {
            "needs_background": "light"
          }
        }
      ],
      "source": [
        "plt.scatter(x_train.numpy()[:, 0], x_train.numpy()[:, 1], c=y_train.numpy())\n",
        "plt.scatter(x_test.numpy()[:, 0], x_test.numpy()[:, 1], c=y_test.numpy(), marker='+');"
      ]
    },
    {
      "cell_type": "code",
      "execution_count": 17,
      "metadata": {
        "id": "zAlJC45MtZ2u"
      },
      "outputs": [],
      "source": [
        "model = Feedforward(2, 1)\n",
        "criterion = torch.nn.BCELoss()\n",
        "optimizer = torch.optim.SGD(model.parameters(), lr=0.01)"
      ]
    },
    {
      "cell_type": "code",
      "execution_count": 18,
      "metadata": {
        "colab": {
          "base_uri": "https://localhost:8080/"
        },
        "id": "PZOAh6VntZ2u",
        "outputId": "f570d971-e3a7-404b-f096-c95e2793ba9e"
      },
      "outputs": [
        {
          "output_type": "stream",
          "name": "stdout",
          "text": [
            "Test loss before training 0.842322826385498\n"
          ]
        }
      ],
      "source": [
        "model.eval()\n",
        "y_pred = model(x_test)\n",
        "before_train = criterion(y_pred.squeeze(), y_test)\n",
        "print('Test loss before training' , before_train.item())"
      ]
    },
    {
      "cell_type": "code",
      "execution_count": 19,
      "metadata": {
        "colab": {
          "base_uri": "https://localhost:8080/"
        },
        "id": "oaPJBBG0tZ2w",
        "outputId": "dd73489a-3208-4992-e182-ecbe92253b24"
      },
      "outputs": [
        {
          "output_type": "stream",
          "name": "stdout",
          "text": [
            "Epoch 0: train loss: 0.8462665677070618\n",
            "Epoch 100: train loss: 0.7379419207572937\n",
            "Epoch 200: train loss: 0.7054790258407593\n",
            "Epoch 300: train loss: 0.6921423673629761\n",
            "Epoch 400: train loss: 0.6846674680709839\n",
            "Epoch 500: train loss: 0.6750807762145996\n",
            "Epoch 600: train loss: 0.6655594110488892\n",
            "Epoch 700: train loss: 0.65395587682724\n",
            "Epoch 800: train loss: 0.635175347328186\n",
            "Epoch 900: train loss: 0.6094515919685364\n",
            "Epoch 1000: train loss: 0.5730501413345337\n",
            "Epoch 1100: train loss: 0.5391044616699219\n",
            "Epoch 1200: train loss: 0.5087752938270569\n",
            "Epoch 1300: train loss: 0.4816072881221771\n",
            "Epoch 1400: train loss: 0.4631806015968323\n",
            "Epoch 1500: train loss: 0.44922056794166565\n",
            "Epoch 1600: train loss: 0.43757033348083496\n",
            "Epoch 1700: train loss: 0.42777448892593384\n",
            "Epoch 1800: train loss: 0.4194815158843994\n",
            "Epoch 1900: train loss: 0.41241660714149475\n"
          ]
        }
      ],
      "source": [
        "model.train()\n",
        "epochs = 2000\n",
        "\n",
        "for epoch in range(epochs):\n",
        "    optimizer.zero_grad()\n",
        "\n",
        "    # Forward pass\n",
        "    y_pred = model(x_train)\n",
        "\n",
        "    # Compute Loss\n",
        "    loss = criterion(y_pred.squeeze(), y_train)\n",
        "   \n",
        "    # Backward pass\n",
        "    loss.backward()\n",
        "    optimizer.step()\n",
        "\n",
        "    if epoch % 100 == 0:\n",
        "        print('Epoch {}: train loss: {}'.format(epoch, loss.item()))"
      ]
    },
    {
      "cell_type": "code",
      "execution_count": 20,
      "metadata": {
        "colab": {
          "base_uri": "https://localhost:8080/"
        },
        "id": "XofaB1WbtZ2x",
        "outputId": "62f06475-9c18-45e6-9280-c40b9a11e2e7"
      },
      "outputs": [
        {
          "output_type": "stream",
          "name": "stdout",
          "text": [
            "Test loss after Training 2.1316847801208496\n"
          ]
        }
      ],
      "source": [
        "model.eval()\n",
        "y_pred = model(x_test)\n",
        "after_test = criterion(y_pred.squeeze(), y_test) \n",
        "print('Test loss after Training' , after_test.item())"
      ]
    },
    {
      "cell_type": "markdown",
      "source": [
        "\n",
        "\n",
        "---\n",
        "\n",
        "\n",
        "\n",
        "\n",
        "\n"
      ],
      "metadata": {
        "id": "MuXHNUQraWCa"
      }
    },
    {
      "cell_type": "markdown",
      "source": [
        "## Homework"
      ],
      "metadata": {
        "id": "hqKokjguaG3e"
      }
    },
    {
      "cell_type": "code",
      "execution_count": 1,
      "metadata": {
        "id": "Gp3vmbx3tZ2z"
      },
      "outputs": [],
      "source": [
        "import torchvision\n",
        "import matplotlib.pyplot as plt\n",
        "import torch\n",
        "import numpy as np\n",
        "from torch import nn, optim\n",
        "from torchvision.transforms import Normalize, ToTensor, Compose"
      ]
    },
    {
      "cell_type": "code",
      "source": [
        "transform = Compose([\n",
        "    ToTensor(),\n",
        "    Normalize((0.5, 0.5, 0.5), (0.5, 0.5, 0.5))\n",
        "])"
      ],
      "metadata": {
        "id": "-qKTvUiVWbq1"
      },
      "execution_count": 2,
      "outputs": []
    },
    {
      "cell_type": "code",
      "execution_count": 3,
      "metadata": {
        "colab": {
          "base_uri": "https://localhost:8080/"
        },
        "id": "1ABe6EY5tZ20",
        "outputId": "86460f7e-9998-4e21-f19e-3ee25dbff6a8"
      },
      "outputs": [
        {
          "output_type": "stream",
          "name": "stdout",
          "text": [
            "Files already downloaded and verified\n",
            "torch.Size([3, 32, 32])\n",
            "6\n"
          ]
        }
      ],
      "source": [
        "train_dataset = torchvision.datasets.CIFAR10(root='data/',\n",
        "                                             train=True,  \n",
        "                                             transform=transform, \n",
        "                                             download=True)\n",
        "\n",
        "\n",
        "image, label = train_dataset[0]\n",
        "print(image.size())\n",
        "print(label)"
      ]
    },
    {
      "cell_type": "code",
      "source": [
        "len(train_dataset)"
      ],
      "metadata": {
        "colab": {
          "base_uri": "https://localhost:8080/"
        },
        "id": "u11TiCChw2d6",
        "outputId": "746d3677-0819-4ba3-9392-2a2c9984781f"
      },
      "execution_count": 4,
      "outputs": [
        {
          "output_type": "execute_result",
          "data": {
            "text/plain": [
              "50000"
            ]
          },
          "metadata": {},
          "execution_count": 4
        }
      ]
    },
    {
      "cell_type": "code",
      "source": [
        "image.permute(1, 2, 0).shape"
      ],
      "metadata": {
        "colab": {
          "base_uri": "https://localhost:8080/"
        },
        "id": "wgkIcZL6FQWk",
        "outputId": "2a2288b1-2a6c-4654-e7bf-98c31c19e945"
      },
      "execution_count": 5,
      "outputs": [
        {
          "output_type": "execute_result",
          "data": {
            "text/plain": [
              "torch.Size([32, 32, 3])"
            ]
          },
          "metadata": {},
          "execution_count": 5
        }
      ]
    },
    {
      "cell_type": "code",
      "execution_count": 6,
      "metadata": {
        "colab": {
          "base_uri": "https://localhost:8080/",
          "height": 305
        },
        "id": "gk9lX8VdtZ21",
        "outputId": "ad9b9fe9-0494-4f87-9575-34d29da8a307"
      },
      "outputs": [
        {
          "output_type": "stream",
          "name": "stderr",
          "text": [
            "Clipping input data to the valid range for imshow with RGB data ([0..1] for floats or [0..255] for integers).\n"
          ]
        },
        {
          "output_type": "display_data",
          "data": {
            "text/plain": [
              "<Figure size 432x288 with 1 Axes>"
            ],
            "image/png": "[encoded data removed]"
          },
          "metadata": {
            "needs_background": "light"
          }
        }
      ],
      "source": [
        "plt.imshow(image.permute(1, 2, 0).numpy());"
      ]
    },
    {
      "cell_type": "code",
      "execution_count": 7,
      "metadata": {
        "id": "dzocRyIKtZ22"
      },
      "outputs": [],
      "source": [
        "train_loader = torch.utils.data.DataLoader(dataset=train_dataset,\n",
        "                                           batch_size=32, \n",
        "                                           shuffle=True)"
      ]
    },
    {
      "cell_type": "code",
      "execution_count": 8,
      "metadata": {
        "colab": {
          "base_uri": "https://localhost:8080/"
        },
        "id": "K1XeQ1aPtZ23",
        "outputId": "c0b8e6d4-09c4-43ed-c7db-bdc942a297bd"
      },
      "outputs": [
        {
          "output_type": "stream",
          "name": "stdout",
          "text": [
            "Files already downloaded and verified\n"
          ]
        }
      ],
      "source": [
        "test_dataset = torchvision.datasets.CIFAR10(root='./data', train=False,\n",
        "                                            download=True, transform=transform)\n",
        "test_loader = torch.utils.data.DataLoader(test_dataset, batch_size=8,\n",
        "                                          shuffle=False)"
      ]
    },
    {
      "cell_type": "code",
      "execution_count": 9,
      "metadata": {
        "id": "oFYrzU1NtZ24"
      },
      "outputs": [],
      "source": [
        "classes = ('plane', 'car', 'bird', 'cat',\n",
        "           'deer', 'dog', 'frog', 'horse', 'ship', 'truck')"
      ]
    },
    {
      "cell_type": "code",
      "execution_count": 10,
      "metadata": {
        "id": "8wS-xS37tZ26",
        "colab": {
          "base_uri": "https://localhost:8080/"
        },
        "outputId": "97e52c76-1419-46e5-f3a4-e434b142fd80"
      },
      "outputs": [
        {
          "output_type": "execute_result",
          "data": {
            "text/plain": [
              "Net(\n",
              "  (fc1): Linear(in_features=3072, out_features=800, bias=True)\n",
              "  (fc2): Linear(in_features=800, out_features=400, bias=True)\n",
              "  (fc3): Linear(in_features=400, out_features=100, bias=True)\n",
              "  (fc4): Linear(in_features=100, out_features=10, bias=True)\n",
              ")"
            ]
          },
          "metadata": {},
          "execution_count": 10
        }
      ],
      "source": [
        "import torch.nn.functional as F\n",
        "\n",
        "\n",
        "class Net(nn.Module):\n",
        "    def __init__(self, input_dim, hidden_dim, output_dim):\n",
        "        super().__init__()\n",
        "        self.fc1 = nn.Linear(input_dim, 8 * hidden_dim)\n",
        "        self.fc2 = nn.Linear(8 * hidden_dim, 4 * hidden_dim)\n",
        "        self.fc3 = nn.Linear(4 * hidden_dim, hidden_dim)\n",
        "        self.fc4 = nn.Linear(hidden_dim, output_dim)\n",
        "\n",
        "    def forward(self, x):\n",
        "        x = x.view(x.shape[0], -1)\n",
        "        x = self.fc1(x)\n",
        "        x = F.relu(x)\n",
        "        x = self.fc2(x)\n",
        "        x = F.relu(x)\n",
        "        x = self.fc3(x)\n",
        "        x = F.relu(x)\n",
        "        x = self.fc4(x)\n",
        "        return x\n",
        "    \n",
        "    def predict(self, x):\n",
        "        x = x.view(x.shape[0], -1)\n",
        "        x = self.fc1(x)\n",
        "        x = F.relu(x)\n",
        "        x = self.fc2(x)\n",
        "        x = F.relu(x)\n",
        "        x = self.fc3(x)\n",
        "        x = F.relu(x)\n",
        "        x = self.fc4(x)\n",
        "        x = F.softmax(x)\n",
        "        return x\n",
        "\n",
        "\n",
        "net = Net(3072, 100, 10)\n",
        "net.train()"
      ]
    },
    {
      "cell_type": "code",
      "execution_count": 11,
      "metadata": {
        "colab": {
          "base_uri": "https://localhost:8080/"
        },
        "id": "Gdc_JriftZ25",
        "outputId": "d09154fd-1b5d-45bb-cf4c-f6bc1ff7b7f9"
      },
      "outputs": [
        {
          "output_type": "execute_result",
          "data": {
            "text/plain": [
              "3072"
            ]
          },
          "metadata": {},
          "execution_count": 11
        }
      ],
      "source": [
        "3 * 32 * 32"
      ]
    },
    {
      "cell_type": "code",
      "execution_count": 12,
      "metadata": {
        "id": "cps8zpkctZ26"
      },
      "outputs": [],
      "source": [
        "criterion = nn.CrossEntropyLoss()\n",
        "# optimizer = optim.SGD(net.parameters(), lr=0.01, momentum=0.0)\n",
        "optimizer = optim.Adam(net.parameters(), lr=0.001)"
      ]
    },
    {
      "cell_type": "code",
      "execution_count": 13,
      "metadata": {
        "colab": {
          "base_uri": "https://localhost:8080/"
        },
        "id": "5fKNYUqetZ27",
        "outputId": "f240ece2-c28c-4a4a-cae3-e9f9f3fd9939"
      },
      "outputs": [
        {
          "output_type": "stream",
          "name": "stdout",
          "text": [
            "Epoch [1/5]. Step [1/1563]. Loss: 0.072\n",
            "Epoch [1/5]. Step [301/1563]. Loss: 0.058\n",
            "Epoch [1/5]. Step [601/1563]. Loss: 0.053\n",
            "Epoch [1/5]. Step [901/1563]. Loss: 0.052\n",
            "Epoch [1/5]. Step [1201/1563]. Loss: 0.050\n",
            "Epoch [1/5]. Step [1501/1563]. Loss: 0.049\n",
            "Epoch [2/5]. Step [1/1563]. Loss: 0.050\n",
            "Epoch [2/5]. Step [301/1563]. Loss: 0.046\n",
            "Epoch [2/5]. Step [601/1563]. Loss: 0.046\n",
            "Epoch [2/5]. Step [901/1563]. Loss: 0.046\n",
            "Epoch [2/5]. Step [1201/1563]. Loss: 0.045\n",
            "Epoch [2/5]. Step [1501/1563]. Loss: 0.046\n",
            "Epoch [3/5]. Step [1/1563]. Loss: 0.041\n",
            "Epoch [3/5]. Step [301/1563]. Loss: 0.042\n",
            "Epoch [3/5]. Step [601/1563]. Loss: 0.042\n",
            "Epoch [3/5]. Step [901/1563]. Loss: 0.042\n",
            "Epoch [3/5]. Step [1201/1563]. Loss: 0.042\n",
            "Epoch [3/5]. Step [1501/1563]. Loss: 0.042\n",
            "Epoch [4/5]. Step [1/1563]. Loss: 0.043\n",
            "Epoch [4/5]. Step [301/1563]. Loss: 0.039\n",
            "Epoch [4/5]. Step [601/1563]. Loss: 0.039\n",
            "Epoch [4/5]. Step [901/1563]. Loss: 0.041\n",
            "Epoch [4/5]. Step [1201/1563]. Loss: 0.040\n",
            "Epoch [4/5]. Step [1501/1563]. Loss: 0.039\n",
            "Epoch [5/5]. Step [1/1563]. Loss: 0.032\n",
            "Epoch [5/5]. Step [301/1563]. Loss: 0.036\n",
            "Epoch [5/5]. Step [601/1563]. Loss: 0.036\n",
            "Epoch [5/5]. Step [901/1563]. Loss: 0.037\n",
            "Epoch [5/5]. Step [1201/1563]. Loss: 0.038\n",
            "Epoch [5/5]. Step [1501/1563]. Loss: 0.037\n",
            "Training is finished!\n"
          ]
        }
      ],
      "source": [
        "num_epochs = 5\n",
        "\n",
        "for epoch in range(num_epochs):\n",
        "    running_loss = 0.0\n",
        "    running_items = 0.0\n",
        "\n",
        "\n",
        "    for i, data in enumerate(train_loader):\n",
        "        inputs, labels = data[0], data[1]\n",
        "\n",
        "         # Обнуляем градиент\n",
        "        optimizer.zero_grad()\n",
        "        # Делаем предсказание\n",
        "        outputs = net(inputs)\n",
        "        # Рассчитываем лосс-функцию\n",
        "        loss = criterion(outputs, labels)\n",
        "        # Делаем шаг назад по лоссу\n",
        "        loss.backward()\n",
        "        # Делаем шаг нашего оптимайзера\n",
        "        optimizer.step()\n",
        "\n",
        "        # выводим статистику о процессе обучения\n",
        "        running_loss += loss.item()\n",
        "        running_items += len(labels)\n",
        "        if i % 300 == 0:    # печатаем каждые 300 mini-batches\n",
        "            print(f'Epoch [{epoch + 1}/{num_epochs}]. ' \\\n",
        "                  f'Step [{i + 1}/{len(train_loader)}]. ' \\\n",
        "                  f'Loss: {running_loss / running_items:.3f}')\n",
        "            running_loss, running_items = 0.0, 0.0\n",
        "\n",
        "print('Training is finished!')"
      ]
    },
    {
      "cell_type": "markdown",
      "metadata": {
        "id": "_sTks3KslrhC"
      },
      "source": [
        "## Загрузка и сохранение модели"
      ]
    },
    {
      "cell_type": "markdown",
      "metadata": {
        "id": "LPFEiskvlrhC"
      },
      "source": [
        "### Сохранение модели"
      ]
    },
    {
      "cell_type": "code",
      "metadata": {
        "id": "KD7mnuaeAhhs"
      },
      "source": [
        "PATH_WEIGHTS = './cifar_net_test_version_weights.pth'\n",
        "torch.save(net.state_dict(), PATH_WEIGHTS)"
      ],
      "execution_count": 14,
      "outputs": []
    },
    {
      "cell_type": "code",
      "metadata": {
        "id": "vfaFpun1Ahhs",
        "colab": {
          "base_uri": "https://localhost:8080/"
        },
        "outputId": "23896b6d-6163-48ae-90f8-d83226408ec2"
      },
      "source": [
        "print(\"Model state_dict: \")\n",
        "for param in net.state_dict():\n",
        "    print(param, \"\\t\", net.state_dict()[param].size())"
      ],
      "execution_count": 15,
      "outputs": [
        {
          "output_type": "stream",
          "name": "stdout",
          "text": [
            "Model state_dict: \n",
            "fc1.weight \t torch.Size([800, 3072])\n",
            "fc1.bias \t torch.Size([800])\n",
            "fc2.weight \t torch.Size([400, 800])\n",
            "fc2.bias \t torch.Size([400])\n",
            "fc3.weight \t torch.Size([100, 400])\n",
            "fc3.bias \t torch.Size([100])\n",
            "fc4.weight \t torch.Size([10, 100])\n",
            "fc4.bias \t torch.Size([10])\n"
          ]
        }
      ]
    },
    {
      "cell_type": "code",
      "metadata": {
        "id": "7uo21kDtpehh"
      },
      "source": [
        "PATH_MODEL = './cifar_net_test_version_model.pth'\n",
        "torch.save(net, PATH_MODEL)"
      ],
      "execution_count": 16,
      "outputs": []
    },
    {
      "cell_type": "markdown",
      "metadata": {
        "id": "ehNiDFWtAhht"
      },
      "source": [
        "### Загрузка и использование модели "
      ]
    },
    {
      "cell_type": "code",
      "metadata": {
        "id": "3bobKodiAhht",
        "colab": {
          "base_uri": "https://localhost:8080/"
        },
        "outputId": "df54806b-ef95-4cf9-ea7f-27ecd9b8ce8a"
      },
      "source": [
        "net = Net(3072, 100, 10)\n",
        "net.load_state_dict(torch.load(PATH_WEIGHTS))\n",
        "net"
      ],
      "execution_count": 17,
      "outputs": [
        {
          "output_type": "execute_result",
          "data": {
            "text/plain": [
              "Net(\n",
              "  (fc1): Linear(in_features=3072, out_features=800, bias=True)\n",
              "  (fc2): Linear(in_features=800, out_features=400, bias=True)\n",
              "  (fc3): Linear(in_features=400, out_features=100, bias=True)\n",
              "  (fc4): Linear(in_features=100, out_features=10, bias=True)\n",
              ")"
            ]
          },
          "metadata": {},
          "execution_count": 17
        }
      ]
    },
    {
      "cell_type": "code",
      "metadata": {
        "id": "EcC_eMaxphxr"
      },
      "source": [
        "net = torch.load(PATH_MODEL)"
      ],
      "execution_count": 18,
      "outputs": []
    },
    {
      "cell_type": "code",
      "metadata": {
        "id": "bnItAZIgAhht"
      },
      "source": [
        "data_iter = iter(test_loader)\n",
        "images, labels = data_iter.next()"
      ],
      "execution_count": 19,
      "outputs": []
    },
    {
      "cell_type": "code",
      "metadata": {
        "id": "xaZVP7lWAhhu",
        "colab": {
          "base_uri": "https://localhost:8080/",
          "height": 182
        },
        "outputId": "ee99e3e1-9b21-46fb-b036-74e5c606651a"
      },
      "source": [
        "net.eval()\n",
        "outputs = net(images)\n",
        "imgs = torchvision.utils.make_grid(images)\n",
        "plt.figure(figsize=(10, 5))\n",
        "plt.imshow(imgs.permute(1, 2, 0).numpy())\n",
        "print('GroundTruth: ', ' '.join(classes[labels[j]] for j in range(len(labels))))"
      ],
      "execution_count": 20,
      "outputs": [
        {
          "output_type": "stream",
          "name": "stderr",
          "text": [
            "Clipping input data to the valid range for imshow with RGB data ([0..1] for floats or [0..255] for integers).\n"
          ]
        },
        {
          "output_type": "stream",
          "name": "stdout",
          "text": [
            "GroundTruth:  cat ship ship plane frog frog car frog\n"
          ]
        },
        {
          "output_type": "display_data",
          "data": {
            "text/plain": [
              "<Figure size 720x360 with 1 Axes>"
            ],
            "image/png": "[encoded data removed]"
          },
          "metadata": {
            "needs_background": "light"
          }
        }
      ]
    },
    {
      "cell_type": "code",
      "metadata": {
        "id": "OK5qzXeCAhhv",
        "colab": {
          "base_uri": "https://localhost:8080/"
        },
        "outputId": "3a46746e-8ce9-40ca-97c5-4f1413e6fa85"
      },
      "source": [
        "print(outputs)"
      ],
      "execution_count": 21,
      "outputs": [
        {
          "output_type": "stream",
          "name": "stdout",
          "text": [
            "tensor([[-0.5891, -1.2511, -0.8415,  1.8707, -2.0084,  1.2842,  0.2942, -1.9386,\n",
            "         -1.0234, -1.9434],\n",
            "        [ 2.1541,  1.6573, -0.6078, -1.6093, -1.2937, -1.7599, -2.5688, -2.1512,\n",
            "          5.0546,  1.7401],\n",
            "        [ 3.3214,  2.7045, -1.7642, -2.5877, -1.0414, -2.5790, -4.5123, -1.4177,\n",
            "          3.5384,  0.7818],\n",
            "        [ 0.5746, -0.3814, -0.8499, -0.6569, -1.4021, -0.9346, -3.3126,  0.2015,\n",
            "          0.1383, -1.3116],\n",
            "        [-2.9782, -4.3565,  1.9156, -0.9147,  5.1309, -0.4500,  3.3637, -3.0522,\n",
            "         -4.9910, -6.2079],\n",
            "        [-1.3599, -1.4174, -0.0361,  1.0489,  0.1554,  0.6140,  2.2756, -1.0832,\n",
            "         -2.4677, -1.5004],\n",
            "        [-1.4060, -1.2509, -1.3126,  3.3415, -5.0882,  0.2946, -2.7686, -2.1491,\n",
            "         -2.2244, -2.8271],\n",
            "        [-0.1129,  1.1421,  0.4565, -1.2905,  1.0589, -1.5640,  2.7544, -4.2343,\n",
            "         -1.0708,  0.0281]], grad_fn=<AddmmBackward0>)\n"
          ]
        }
      ]
    },
    {
      "cell_type": "code",
      "source": [
        "net.predict(images)"
      ],
      "metadata": {
        "colab": {
          "base_uri": "https://localhost:8080/"
        },
        "id": "lR4a_Km2BGlq",
        "outputId": "82c2e181-e947-452d-fbd9-f3a8286a3551"
      },
      "execution_count": 22,
      "outputs": [
        {
          "output_type": "stream",
          "name": "stderr",
          "text": [
            "/usr/local/lib/python3.7/dist-packages/ipykernel_launcher.py:32: UserWarning: Implicit dimension choice for softmax has been deprecated. Change the call to include dim=X as an argument.\n"
          ]
        },
        {
          "output_type": "execute_result",
          "data": {
            "text/plain": [
              "tensor([[4.1102e-02, 2.1200e-02, 3.1933e-02, 4.8097e-01, 9.9421e-03, 2.6755e-01,\n",
              "         9.9419e-02, 1.0660e-02, 2.6623e-02, 1.0610e-02],\n",
              "        [4.8514e-02, 2.9519e-02, 3.0645e-03, 1.1257e-03, 1.5435e-03, 9.6835e-04,\n",
              "         4.3123e-04, 6.5478e-04, 8.8211e-01, 3.2068e-02],\n",
              "        [3.4549e-01, 1.8645e-01, 2.1370e-03, 9.3796e-04, 4.4025e-03, 9.4614e-04,\n",
              "         1.3687e-04, 3.0220e-03, 4.2922e-01, 2.7259e-02],\n",
              "        [2.6429e-01, 1.0160e-01, 6.3597e-02, 7.7135e-02, 3.6612e-02, 5.8433e-02,\n",
              "         5.4186e-03, 1.8198e-01, 1.7085e-01, 4.0080e-02],\n",
              "        [2.4701e-04, 6.2248e-05, 3.2964e-02, 1.9447e-03, 8.2115e-01, 3.0951e-03,\n",
              "         1.4026e-01, 2.2938e-04, 3.3003e-05, 9.7739e-06],\n",
              "        [1.4491e-02, 1.3681e-02, 5.4451e-02, 1.6115e-01, 6.5944e-02, 1.0431e-01,\n",
              "         5.4949e-01, 1.9109e-02, 4.7863e-03, 1.2592e-02],\n",
              "        [7.9702e-03, 9.3066e-03, 8.7503e-03, 9.1885e-01, 2.0058e-04, 4.3654e-02,\n",
              "         2.0402e-03, 3.7908e-03, 3.5159e-03, 1.9244e-03],\n",
              "        [3.4263e-02, 1.2019e-01, 6.0546e-02, 1.0553e-02, 1.1059e-01, 8.0284e-03,\n",
              "         6.0268e-01, 5.5578e-04, 1.3146e-02, 3.9449e-02]],\n",
              "       grad_fn=<SoftmaxBackward0>)"
            ]
          },
          "metadata": {},
          "execution_count": 22
        }
      ]
    },
    {
      "cell_type": "code",
      "metadata": {
        "id": "VF-ezeboAhhv",
        "colab": {
          "base_uri": "https://localhost:8080/"
        },
        "outputId": "3f1013c6-5bbc-46e3-db6d-a09d47ad8ae2"
      },
      "source": [
        "_, predicted = torch.max(outputs, 1)\n",
        "\n",
        "predicted"
      ],
      "execution_count": 23,
      "outputs": [
        {
          "output_type": "execute_result",
          "data": {
            "text/plain": [
              "tensor([3, 8, 8, 0, 4, 6, 3, 6])"
            ]
          },
          "metadata": {},
          "execution_count": 23
        }
      ]
    },
    {
      "cell_type": "code",
      "metadata": {
        "id": "Vd6w5xrvHP-O",
        "colab": {
          "base_uri": "https://localhost:8080/"
        },
        "outputId": "e4917fa6-d3de-487e-a8e4-06b79550e546"
      },
      "source": [
        "print('Predicted: ', ' '.join(classes[predicted[j]] for j in range(len(labels))))"
      ],
      "execution_count": 24,
      "outputs": [
        {
          "output_type": "stream",
          "name": "stdout",
          "text": [
            "Predicted:  cat ship ship plane deer frog cat frog\n"
          ]
        }
      ]
    },
    {
      "cell_type": "code",
      "metadata": {
        "id": "oxPcScN3ROv2",
        "colab": {
          "base_uri": "https://localhost:8080/"
        },
        "outputId": "e8cb938e-1a3e-4434-a641-c25bf0c222f8"
      },
      "source": [
        "gt = np.array([classes[labels[j]] for j in range(len(labels))])\n",
        "pred = np.array([classes[predicted[j]] for j in range(len(labels))])\n",
        "\n",
        "print(gt)\n",
        "print(pred)\n",
        "print(f'Accuracy is {(gt == pred).sum() / len(gt)}')"
      ],
      "execution_count": 25,
      "outputs": [
        {
          "output_type": "stream",
          "name": "stdout",
          "text": [
            "['cat' 'ship' 'ship' 'plane' 'frog' 'frog' 'car' 'frog']\n",
            "['cat' 'ship' 'ship' 'plane' 'deer' 'frog' 'cat' 'frog']\n",
            "Accuracy is 0.75\n"
          ]
        }
      ]
    },
    {
      "cell_type": "markdown",
      "metadata": {
        "id": "MkJ7emsMxaYF"
      },
      "source": [
        "# Домашнее задание\n",
        "\n",
        "1. Добиться хорошего результата от модели, собранной на занятии (5 угаданныx картинок из 8 предложенных). Варианты изменений:\n",
        "- изменение слоёв и их количества;\n",
        "- изменение метода оптимизации;\n",
        "- изменение процесса обучения;\n",
        "- *преобразование данных transform\n",
        "\n",
        "2. *Переписать данный туториал на PyTorch: https://www.tensorflow.org/tutorials/quickstart/beginner?hl=ru"
      ]
    },
    {
      "cell_type": "markdown",
      "source": [
        "**Дополнительные материалы:**\n",
        "1. Метод обратного распространения ошибки https://youtu.be/EuhoXsuu8SQ\n",
        "2. Функции активаций https://youtu.be/Gs8T_qF-FAA"
      ],
      "metadata": {
        "id": "jTBKY44tlhNe"
      }
    },
    {
      "cell_type": "code",
      "source": [
        ""
      ],
      "metadata": {
        "id": "7OfSR37z0sWY"
      },
      "execution_count": null,
      "outputs": []
    }
  ],
  "metadata": {
    "kernelspec": {
      "display_name": "Python 3",
      "language": "python",
      "name": "python3"
    },
    "language_info": {
      "codemirror_mode": {
        "name": "ipython",
        "version": 3
      },
      "file_extension": ".py",
      "mimetype": "text/x-python",
      "name": "python",
      "nbconvert_exporter": "python",
      "pygments_lexer": "ipython3",
      "version": "3.7.4"
    },
    "colab": {
      "name": "Копия блокнота \"lesson_2.ipynb\"",
      "provenance": [],
      "collapsed_sections": [],
      "toc_visible": true
    },
    "accelerator": "GPU"
  },
  "nbformat": 4,
  "nbformat_minor": 0
}